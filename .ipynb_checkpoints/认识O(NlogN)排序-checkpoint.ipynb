{
 "cells": [
  {
   "cell_type": "markdown",
   "id": "68ff0d9d",
   "metadata": {},
   "source": [
    "## 递归方法寻找数组某个范围的最大值"
   ]
  },
  {
   "cell_type": "code",
   "execution_count": 48,
   "id": "13043c24",
   "metadata": {},
   "outputs": [
    {
     "data": {
      "text/plain": [
       "4"
      ]
     },
     "execution_count": 48,
     "metadata": {},
     "output_type": "execute_result"
    }
   ],
   "source": [
    "class GetMax():\n",
    "    # arr在arr[L ... R]范围寻找最大值\n",
    "    def __init__(self, arr):\n",
    "        self.max = self.process(arr, 0, len(arr) - 1)\n",
    "    \n",
    "    def process(self, arr, L, R):\n",
    "        if L == R:\n",
    "            return arr[L]\n",
    "        # 使用L + （(R-L)/2）是为了防止 \n",
    "        # (L+R)/2中的L+R溢出得到负值 >>1为位运算 表示除以2\n",
    "        # 注意  (（R-L）>>1)需要套一个括号\n",
    "        mid = L + ((R-L) >> 1)  \n",
    "        left_max = self.process(arr, L ,mid)\n",
    "        right_max = self.process(arr, mid+1, R)\n",
    "        return max(left_max, right_max)\n",
    "    \n",
    "arr = [1 ,2 ,3, 4]\n",
    "result = GetMax(arr)\n",
    "result.max"
   ]
  },
  {
   "cell_type": "code",
   "execution_count": null,
   "id": "d88ea9df",
   "metadata": {},
   "outputs": [],
   "source": [
    "def myGetMax(arr):\n",
    "    if len(arr) == 1:\n",
    "        return arr[0]\n",
    "    \n",
    "    \n",
    "        "
   ]
  },
  {
   "cell_type": "markdown",
   "id": "8740a4d9",
   "metadata": {},
   "source": [
    "## 斐波那契数列"
   ]
  },
  {
   "cell_type": "code",
   "execution_count": 9,
   "id": "7af22f49",
   "metadata": {},
   "outputs": [
    {
     "name": "stdout",
     "output_type": "stream",
     "text": [
      "[0, 1, 1, 2, 0, 0, 0, 0, 0, 0, 0]\n",
      "[0, 1, 1, 2, 3, 0, 0, 0, 0, 0, 0]\n",
      "[0, 1, 1, 2, 3, 5, 0, 0, 0, 0, 0]\n",
      "[0, 1, 1, 2, 3, 5, 8, 0, 0, 0, 0]\n",
      "[0, 1, 1, 2, 3, 5, 8, 13, 0, 0, 0]\n",
      "[0, 1, 1, 2, 3, 5, 8, 13, 21, 0, 0]\n",
      "[0, 1, 1, 2, 3, 5, 8, 13, 21, 34, 0]\n",
      "[0, 1, 1, 2, 3, 5, 8, 13, 21, 34, 55]\n"
     ]
    },
    {
     "data": {
      "text/plain": [
       "55"
      ]
     },
     "execution_count": 9,
     "metadata": {},
     "output_type": "execute_result"
    }
   ],
   "source": [
    "def Fibonacci(n):   \n",
    "    if n == 0:\n",
    "        f[n] = 0\n",
    "        return f[n]\n",
    "    elif n == 1 or n == 2:\n",
    "        f[n] = 1\n",
    "        return f[n]\n",
    "    elif f[n] != 0:\n",
    "        return f[n]\n",
    "    f[n] = Fibonacci(n-1) + Fibonacci(n-2)\n",
    "#     print(n)\n",
    "    print(f)\n",
    "    return f[n]\n",
    "n = 10\n",
    "f = [0] * (n+1)\n",
    "a = Fibonacci(n)\n",
    "a"
   ]
  },
  {
   "cell_type": "code",
   "execution_count": null,
   "id": "a06c1bc2",
   "metadata": {},
   "outputs": [],
   "source": []
  },
  {
   "cell_type": "code",
   "execution_count": null,
   "id": "1af9b81c",
   "metadata": {},
   "outputs": [],
   "source": []
  },
  {
   "cell_type": "code",
   "execution_count": null,
   "id": "ca3f644c",
   "metadata": {},
   "outputs": [],
   "source": []
  }
 ],
 "metadata": {
  "kernelspec": {
   "display_name": "Python 3 (ipykernel)",
   "language": "python",
   "name": "python3"
  },
  "language_info": {
   "codemirror_mode": {
    "name": "ipython",
    "version": 3
   },
   "file_extension": ".py",
   "mimetype": "text/x-python",
   "name": "python",
   "nbconvert_exporter": "python",
   "pygments_lexer": "ipython3",
   "version": "3.8.5"
  }
 },
 "nbformat": 4,
 "nbformat_minor": 5
}
