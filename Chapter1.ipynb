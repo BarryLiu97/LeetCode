{
 "cells": [
  {
   "cell_type": "code",
   "execution_count": 1,
   "id": "b87b0c1e",
   "metadata": {
    "tags": []
   },
   "outputs": [
    {
     "name": "stdout",
     "output_type": "stream",
     "text": [
      "0\n"
     ]
    },
    {
     "data": {
      "text/plain": [
       "False"
      ]
     },
     "execution_count": 1,
     "metadata": {},
     "output_type": "execute_result"
    }
   ],
   "source": [
    "def canPlaceFlowers(flowerbed, n) -> bool:\n",
    "    flower_len = len(flowerbed)\n",
    "    num = 0\n",
    "    if n == flowerbed and 1 in flowerbed:\n",
    "        return False\n",
    "    for index in range(flower_len):\n",
    "        if not index and (not flowerbed[0]) and (not flowerbed[1]):\n",
    "            # 列表开头为0且1号位为0，则可以种花，并设0号位为1\n",
    "            num += 1\n",
    "            flowerbed[index] = 1\n",
    "        elif index == flower_len-1 and (not flowerbed[index]) and not flowerbed[index-1]:\n",
    "            # 列表最后为0且前一个位置为0，则可以种花，并设最后为1\n",
    "            num += 1\n",
    "            flowerbed[index] = 1\n",
    "        elif 0 < index < flower_len-1 and (not flowerbed[index]) and \\\n",
    "            (not flowerbed[index-1]) and not flowerbed[index+1]:\n",
    "            num += 1\n",
    "            flowerbed[index] = 1\n",
    "    print(num)\n",
    "    if num == n:\n",
    "        return True\n",
    "    else:\n",
    "        return False\n",
    "flowered = [0, 1, 0]\n",
    "canPlaceFlowers(flowered, 1)"
   ]
  },
  {
   "cell_type": "code",
   "execution_count": 25,
   "id": "94a5513e",
   "metadata": {},
   "outputs": [
    {
     "name": "stdout",
     "output_type": "stream",
     "text": [
      "{'l': [21, 21], 'k': [20, 20], 'i': [17, 22], 'a': [0, 8], 'b': [1, 5], 'f': [11, 11], 'j': [18, 23], 'c': [4, 7], 'g': [13, 13], 'd': [9, 14], 'h': [16, 19], 'e': [10, 15]}\n",
      "8 0\n",
      "8 0\n",
      "8 0\n",
      "8 0\n",
      "8 0\n",
      "8 0\n",
      "8 0\n",
      "8 0\n",
      "8 0\n",
      "a d\n",
      "15 9\n",
      "15 9\n",
      "15 9\n",
      "15 9\n",
      "15 9\n",
      "15 9\n",
      "d h\n",
      "22 16\n",
      "23 16\n",
      "23 16\n",
      "23 16\n",
      "23 16\n",
      "23 16\n",
      "23 16\n"
     ]
    },
    {
     "data": {
      "text/plain": [
       "[9, 7, 8]"
      ]
     },
     "execution_count": 25,
     "metadata": {},
     "output_type": "execute_result"
    }
   ],
   "source": [
    "def partitionLabels(s: str):\n",
    "    result = []\n",
    "    letter = list(set(s))\n",
    "    letter_pos = {l:[s.find(l), s.rfind(l)] for l in letter}\n",
    "    print(letter_pos)\n",
    "    \n",
    "    start_letter = s[0]\n",
    "    start = letter_pos[start_letter][0]\n",
    "    end = letter_pos[start_letter][1]\n",
    "    for index, element in enumerate(s):\n",
    "        if letter_pos[start_letter][0] <= letter_pos[element][0] <= end:\n",
    "            end = max(letter_pos[element][1], end)\n",
    "            print(end, start)\n",
    "        else:\n",
    "            print(start_letter, element)\n",
    "            result.append(end-start+1)\n",
    "            start_letter = element\n",
    "            start = letter_pos[start_letter][0]\n",
    "            end = letter_pos[start_letter][1]\n",
    "    result.append(end-start+1)\n",
    "    return result\n",
    "s = \"ababcbacadefegdehijhklij\"\n",
    "partitionLabels(s)"
   ]
  },
  {
   "cell_type": "code",
   "execution_count": 2,
   "id": "35c869fc",
   "metadata": {},
   "outputs": [
    {
     "name": "stdout",
     "output_type": "stream",
     "text": [
      "7 1\n",
      "1 5\n",
      "4\n",
      "1 3\n",
      "2\n",
      "1 6\n",
      "5\n",
      "1 4\n",
      "3\n"
     ]
    },
    {
     "data": {
      "text/plain": [
       "0"
      ]
     },
     "execution_count": 2,
     "metadata": {},
     "output_type": "execute_result"
    }
   ],
   "source": [
    "def maxProfit(prices) -> int:\n",
    "    low = prices[0]\n",
    "    money = 0\n",
    "    tmp = 0\n",
    "    for index in range(1, len(prices)):\n",
    "        price = prices[index]\n",
    "        if price > low:\n",
    "            print(low, price)\n",
    "            tmp = price - low\n",
    "            print(tmp)\n",
    "        else:\n",
    "            print(low, price)\n",
    "            low = price\n",
    "            money += tmp\n",
    "            tmp = 0\n",
    "    return money\n",
    "prices = [7,1,5,3,6,4]\n",
    "maxProfit(prices)"
   ]
  },
  {
   "cell_type": "code",
   "execution_count": 7,
   "id": "d49188bc",
   "metadata": {},
   "outputs": [
    {
     "name": "stdout",
     "output_type": "stream",
     "text": [
      "N is 5 M is 5\n",
      "0 0\n",
      "0 1\n",
      "0 2\n",
      "0 3\n",
      "0 4\n",
      "1 4\n",
      "2 4\n",
      "3 4\n",
      "4 4\n",
      "4 3\n",
      "4 2\n",
      "4 1\n",
      "4 0\n",
      "3 0\n",
      "2 0\n",
      "1 0\n",
      "1 1\n",
      "1 2\n",
      "1 3\n",
      "2 3\n",
      "3 3\n",
      "3 2\n",
      "3 1\n",
      "2 1\n",
      "2 2\n",
      "[1, 2, 3, 4, 5, 10, 15, 20, 25, 24, 23, 22, 21, 16, 11, 6, 7, 8, 9, 14, 19, 18, 17, 12, 13]\n"
     ]
    }
   ],
   "source": [
    "def spiralOrder(matrix):\n",
    "    N = len(matrix)\n",
    "    M = len(matrix[0])\n",
    "    print('N is {} M is {}'.format(N, M))\n",
    "    left, right, up, down = 0, M-1, 0, N-1  # 分别表示向左、右、上、下四个方向移动的时候的最大值\n",
    "    # 向left移动的时候, x不变 y最多走到0这个位置     向right移动的时候 x不变  y最多走到N-1这个位置\n",
    "    # 向up移动的时候,   y不变 x最多到0的位置         向down移动的时候   y不变  x最多走到M-1这个位置\n",
    "    # 注意 这里的x和y与直角坐标系不同  当向左移动的时候 是第0行不变  但是列在变化  所以x不变y变\n",
    "    x, y = (0, 0)\n",
    "    res = []\n",
    "    dir = 0\n",
    "    dir_move = [(0, 1), (1, 0), (0, -1), (-1, 0)]\n",
    "    while len(res) != M * N:\n",
    "        print(x,y)\n",
    "        res.append(matrix[x][y])\n",
    "        if dir == 0 and y == right:\n",
    "            dir += 1    # 表示开始向下\n",
    "            up += 1     # up决定了x的值 下一次x到边界为向上运动 所以提前把up下降一位\n",
    "        elif dir == 1 and x == down:\n",
    "            dir += 1    # 表示开始向左\n",
    "            right += -1   # 开始向左，提前将有边界左移\n",
    "        elif dir == 2 and y == left:\n",
    "            dir += 1      # 表示开始向上\n",
    "            down += -1    # 开始向上，所以提前将下边界上移\n",
    "        elif dir == 3 and x == up:\n",
    "            dir += 1      # 开始向右\n",
    "            left += 1    # 开始向右了，提前把左边界减一\n",
    "        dir %= 4  # 因为总共四个方向 对4取模后，保证dir永远是0-3\n",
    "        x += dir_move[dir][0]\n",
    "        y += dir_move[dir][1]\n",
    "    return res\n",
    "matrix = [[1,2,3,4,5],[6,7,8,9,10],[11,12,13,14,15],[16,17,18,19,20],[21,22,23,24,25]]\n",
    "print(spiralOrder(matrix))"
   ]
  },
  {
   "cell_type": "code",
   "execution_count": 8,
   "id": "95d6e21c-35ad-49ec-bdfc-b1cd7a1dc2b3",
   "metadata": {},
   "outputs": [],
   "source": [
    "import numpy"
   ]
  }
 ],
 "metadata": {
  "kernelspec": {
   "display_name": "Python 3.8 (XPython)",
   "language": "python",
   "name": "xpython"
  },
  "language_info": {
   "file_extension": ".py",
   "mimetype": "text/x-python",
   "name": "python",
   "version": "3.8.10"
  },
  "toc-autonumbering": false,
  "toc-showcode": false,
  "toc-showmarkdowntxt": true,
  "toc-showtags": true
 },
 "nbformat": 4,
 "nbformat_minor": 5
}
