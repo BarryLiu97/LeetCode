{
 "cells": [
  {
   "cell_type": "markdown",
   "id": "f034d60f-a295-4220-89cb-b54fa8811c63",
   "metadata": {
    "tags": []
   },
   "source": [
    "# 二分查找"
   ]
  },
  {
   "cell_type": "markdown",
   "id": "f30fcd14-d763-4782-ad30-c628de786f9d",
   "metadata": {
    "tags": []
   },
   "source": [
    "## 4.2 求开方  \n",
    "### 69. Sqrt(x)  简单  \n",
    "__题目描述__  \n",
    "  给定一个非负整数，求它的开方，向下取整。"
   ]
  },
  {
   "cell_type": "code",
   "execution_count": 11,
   "id": "328da6d8-588f-4dfb-8b3c-923b7d10346b",
   "metadata": {},
   "outputs": [],
   "source": [
    "def mySqrt(x):\n",
    "    if x < 0:\n",
    "        return None\n",
    "    if x == 0 or x == 1:  # 防止下面的代码出现除以0的情况\n",
    "        return x\n",
    "    # 想象成给定一个非负整数a，求f(x) = x^2 - a = 0的解。\n",
    "    # 因为a >= 0  在直角坐标系中，y轴截距为-a <= 0 \n",
    "    # 而题目求的是开方后的整数部分， 所以必然有（平方根整数部分）^2 <= x\n",
    "    # 举例  2的平方根的整数部分为1， 1 < 2\n",
    "    # 所以本题可以在[0, a]这个区间内二分查找答案  更好的是[1, a] 因为0和1上面已经return了\n",
    "    left = 0\n",
    "    right = x\n",
    "    while left <= right:   # left == right 的时候则已经达到要求\n",
    "        # 此时mid^2 < x  left+1 此时mid^2 > x\n",
    "        # 说明 left-1为答案\n",
    "        mid = left + (right - left) // 2  # 防止溢出成负数\n",
    "        if mid**2 > x:  # 说明 mid大了\n",
    "            right = mid - 1\n",
    "        elif mid**2 < x:\n",
    "            left = mid + 1\n",
    "        else:\n",
    "            return mid   # 有可能mid^2 == x正好\n",
    "    return left-1"
   ]
  },
  {
   "cell_type": "code",
   "execution_count": 12,
   "id": "991cea7a-06c7-4c2f-89db-1bcf0dfce84e",
   "metadata": {},
   "outputs": [
    {
     "data": {
      "text/plain": [
       "2"
      ]
     },
     "execution_count": 12,
     "metadata": {},
     "output_type": "execute_result"
    }
   ],
   "source": [
    "result = mySqrt(8)\n",
    "result"
   ]
  },
  {
   "cell_type": "code",
   "execution_count": 3,
   "id": "5944b00a-3401-4fe5-9a8b-d7e969494bd3",
   "metadata": {},
   "outputs": [],
   "source": [
    "## 牛顿迭代法\n",
    "def mySqrt(x):\n",
    "    if x < 0:\n",
    "        return None\n",
    "    if x == 0:  # 防止下面的代码出现除以0的情况\n",
    "        return 0\n",
    "    # 牛顿迭代法公式  x_n+1 = x_n - f(x_n) / f'(x_n)\n",
    "    # f(x) = x^2 - a\n",
    "    # 本题 f'(x_n) = 2x   x_n+1 =  x_n - (x_n^2 - a) / 2x\n",
    "    sqrt = x\n",
    "    while sqrt ** 2 > x:\n",
    "        sqrt = int(sqrt - (sqrt**2 - x) / (2 * sqrt))\n",
    "    return sqrt"
   ]
  },
  {
   "cell_type": "code",
   "execution_count": 9,
   "id": "03610fb2-831d-4be1-9c23-caf3da89ba66",
   "metadata": {},
   "outputs": [
    {
     "data": {
      "text/plain": [
       "4"
      ]
     },
     "execution_count": 9,
     "metadata": {},
     "output_type": "execute_result"
    }
   ],
   "source": [
    "result = mySqrt(17)\n",
    "result"
   ]
  },
  {
   "cell_type": "markdown",
   "id": "aabc481e-360a-43f6-a043-5f3e1112cd47",
   "metadata": {},
   "source": [
    "## 查找区间\n",
    "### 34. 有序数组中找到元素第一个和最后一个位置\n",
    "__题目描述__  \n",
    "给定一个增序的整数数组和一个值，查找该值第一次和最后一次出现的位置。  "
   ]
  },
  {
   "cell_type": "code",
   "execution_count": 2,
   "id": "ff9f137e-08fd-4e1d-84d4-466b68f35793",
   "metadata": {},
   "outputs": [],
   "source": [
    "def searchRange(nums, target):\n",
    "    # 先判断有没有这个数\n",
    "    # 如果有，再判断位置，从左往右找 再从右往左找\n",
    "    left = 0\n",
    "    right = len(nums) - 1\n",
    "    low = -1\n",
    "    high = -1\n",
    "    while left <= right:\n",
    "        mid = left + (right - left) // 2\n",
    "        if nums[mid] == target:\n",
    "            low = mid\n",
    "            break  # 这里只为了找出这个数 所以必须break  不然下一个属可能还符合要求\n",
    "        elif nums[mid] > target:\n",
    "            right = mid - 1\n",
    "        else:\n",
    "            left = mid + 1\n",
    "    if low != -1:\n",
    "        for i in range(len(nums)):\n",
    "            if nums[i] == target:\n",
    "                low = i\n",
    "                break\n",
    "        for i in range(len(nums)-1, -1, -1):\n",
    "            if nums[i] == target:\n",
    "                high = i\n",
    "                break\n",
    "        return [low, high]\n",
    "    else:\n",
    "        return [low, high]"
   ]
  },
  {
   "cell_type": "code",
   "execution_count": 3,
   "id": "0ce688bd-0e25-4a65-9094-c8f0685b5435",
   "metadata": {},
   "outputs": [
    {
     "data": {
      "text/plain": [
       "[3, 4]"
      ]
     },
     "execution_count": 3,
     "metadata": {},
     "output_type": "execute_result"
    }
   ],
   "source": [
    "result = searchRange([5, 7, 7, 8, 8, 10], 8)\n",
    "result"
   ]
  },
  {
   "cell_type": "markdown",
   "id": "988c46ea-4ac8-46e5-b088-4fae3c99955a",
   "metadata": {},
   "source": [
    "## 旋转数组查找数字  \n",
    "### 81. Search in Rotated Sorted Array II (Medium)  \n",
    "__题目描述__  \n",
    "一个原本增序的数组被首尾相连后按某个位置断开（如[1,2,2,3,4,5] -> [2,3,4,5,1,2]，在第一\n",
    "位和第二位断开），我们称其为旋转数组。给定一个值，判断这个值是否存在于这个旋转数组中。"
   ]
  },
  {
   "cell_type": "code",
   "execution_count": 3,
   "id": "57f40754-ce82-4984-b8ad-0ea02e585c5f",
   "metadata": {},
   "outputs": [
    {
     "name": "stdout",
     "output_type": "stream",
     "text": [
      "False\n"
     ]
    }
   ],
   "source": [
    "# 这题在升序数组中找数的基础上，增加了一丝无序\n",
    "def search(nums, target):\n",
    "    left = 0\n",
    "    right = len(nums) - 1\n",
    "    while left <= right:\n",
    "        mid = left + (right - left) // 2\n",
    "        if nums[mid] == target:\n",
    "            return True\n",
    "        if nums[mid] == nums[left]:\n",
    "            # 此时中间的数字和最左边相等\n",
    "            # 无法确定左边的序列是否是全部相等，又或者是右边全部相等\n",
    "            # 如[1 2 3 4 1 1 1 1 1]是右边全部相等\n",
    "            # [3 3 3 3 3 0 1 2 2 ]是左边都相等\n",
    "            # 此时左端点右移一位\n",
    "            left += 1\n",
    "        elif nums[mid] <= nums[right]:\n",
    "            # 但是中间的数字和最右边的相等一定能保障右边的数全部相等\n",
    "            \n",
    "            # 右区间是增序的\n",
    "            if nums[mid] < target <= nums[right]:\n",
    "                left = mid + 1\n",
    "            else:\n",
    "                right = mid - 1\n",
    "            # 左区间是增序的\n",
    "        else:\n",
    "            if nums[left] <= target < nums[mid]:\n",
    "                right = mid - 1\n",
    "            else:\n",
    "                left = mid + 1\n",
    "    return False\n",
    "nums = [1, 2, 1]\n",
    "target = 0\n",
    "result = search(nums, target)\n",
    "print(result)"
   ]
  },
  {
   "cell_type": "code",
   "execution_count": null,
   "id": "dc25abca-5ce7-4481-ac1d-504655adb449",
   "metadata": {},
   "outputs": [],
   "source": []
  }
 ],
 "metadata": {
  "kernelspec": {
   "display_name": "Python 3.8 (XPython)",
   "language": "python",
   "name": "xpython"
  },
  "language_info": {
   "file_extension": ".py",
   "mimetype": "text/x-python",
   "name": "python",
   "version": "3.8.10"
  },
  "widgets": {
   "application/vnd.jupyter.widget-state+json": {
    "state": {},
    "version_major": 2,
    "version_minor": 0
   }
  }
 },
 "nbformat": 4,
 "nbformat_minor": 5
}
