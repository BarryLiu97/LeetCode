{
 "cells": [
  {
   "cell_type": "markdown",
   "id": "bf40bbb3-7ee5-4729-b42b-f54011ea5f89",
   "metadata": {},
   "source": [
    "## 1. 两数之和  \n",
    "给定一个整数数组 nums 和一个整数目标值 target，请你在该数组中找出 和为目标值 target  的那 两个 整数，并返回它们的数组下标。  \n",
    "你可以假设每种输入只会对应一个答案。但是，数组中同一个元素在答案里不能重复出现。\n",
    "```\n",
    "输入：nums = [2,7,11,15], target = 9\n",
    "输出：[0,1]\n",
    "解释：因为 nums[0] + nums[1] == 9 ，返回 [0, 1] 。\n",
    "```"
   ]
  },
  {
   "cell_type": "code",
   "execution_count": 6,
   "id": "fe865c36-aea3-4be4-8cc3-3db2ea0e1ad2",
   "metadata": {},
   "outputs": [
    {
     "name": "stdout",
     "output_type": "stream",
     "text": [
      "[1, 2]\n"
     ]
    }
   ],
   "source": [
    "def twoSum(nums, target):\n",
    "    num_dict = {nums[idx]: idx for idx in range(len(nums))}\n",
    "    for idx in range(len(nums)):\n",
    "        key = num_dict.get(target - nums[idx])\n",
    "        if key is not None and key != idx:\n",
    "            return [idx, key]\n",
    "nums = [3,2,4]\n",
    "target = 6\n",
    "print(twoSum(nums, target))"
   ]
  },
  {
   "cell_type": "markdown",
   "id": "14b43364-58f9-43ab-a8df-443418dda154",
   "metadata": {},
   "source": [
    "## 2. 两数相加\n",
    "给你两个 非空 的链表，表示两个非负的整数。它们每位数字都是按照 逆序 的方式存储的，并且每个节点只能存储 一位 数字。\n",
    "\n",
    "请你将两个数相加，并以相同形式返回一个表示和的链表。\n",
    "\n",
    "你可以假设除了数字 0 之外，这两个数都不会以 0 开头。\n",
    "```\n",
    "输入：l1 = [2,4,3], l2 = [5,6,4]\n",
    "输出：[7,0,8]\n",
    "解释：342 + 465 = 807.\n",
    "```"
   ]
  },
  {
   "cell_type": "code",
   "execution_count": 25,
   "id": "4bdba7b1-a212-4310-9349-94ea93de6064",
   "metadata": {},
   "outputs": [],
   "source": [
    "# Definition for singly-linked list.\n",
    "class ListNode:\n",
    "    def __init__(self, val=0, next=None):\n",
    "        self.val = val\n",
    "        self.next = next\n",
    "\n",
    "def addTwoNumbers(l1, l2):\n",
    "    num = 0\n",
    "    # 创建两个头指针相等的节点  p用来next，head用来返回\n",
    "    head = p = ListNode(None)\n",
    "    while l1 or l2 or num:  # num会保存是否有进位，如果有进位则还需要一轮循环\n",
    "        # 若当前节点不为None\n",
    "        num += (l1.val if l1 else 0) + (l2.val if l2 else 0)\n",
    "        p.next = ListNode(num % 10)\n",
    "        p = p.next\n",
    "        num //= 10 # 保留进位信息，若有，则为1\n",
    "        l1 = l1.next if l1 else None\n",
    "        l2 = l2.next if l2 else None\n",
    "    # 一开始创建的是空节点，所以下一个节点才是答案的开始\n",
    "    return head.next"
   ]
  },
  {
   "cell_type": "markdown",
   "id": "6f7bdc80-2ef6-4e0a-8daa-aeb391e8ff70",
   "metadata": {},
   "source": [
    "## 20.有效的括号  \n",
    "给定一个只包括 '('，')'，'{'，'}'，'['，']' 的字符串 s ，判断字符串是否有效。\n",
    "\n",
    "有效字符串需满足：\n",
    "\n",
    "左括号必须用相同类型的右括号闭合。\n",
    "左括号必须以正确的顺序闭合\n",
    "```\n",
    "输入：s = \"()\"\n",
    "输出：true\n",
    "```"
   ]
  },
  {
   "cell_type": "code",
   "execution_count": 15,
   "id": "7e28e9e3-b598-4350-b4b7-c30913c354f5",
   "metadata": {},
   "outputs": [
    {
     "name": "stdout",
     "output_type": "stream",
     "text": [
      "True\n"
     ]
    }
   ],
   "source": [
    "def isValid(s):\n",
    "    s = list(s)\n",
    "    s_dict = {'(': ')', '[': ']', '{': '}', 0: 0}\n",
    "    stack = [0]\n",
    "    for bracket in s:\n",
    "        if bracket in list(s_dict.keys()):\n",
    "            stack.append(bracket)\n",
    "        else:\n",
    "            if s_dict[stack.pop()] != bracket:\n",
    "                return False\n",
    "    if len(stack) > 1:\n",
    "        return False\n",
    "    else:\n",
    "        return True\n",
    "s = \"()[{}]\"\n",
    "print(isValid(s))"
   ]
  },
  {
   "cell_type": "markdown",
   "id": "ac91995a-4d8d-4b9a-95a8-83c91a3cecf1",
   "metadata": {},
   "source": [
    "## 70. 爬楼梯\n",
    "假设你正在爬楼梯。需要 n 阶你才能到达楼顶。\n",
    "每次你可以爬 1 或 2 个台阶。你有多少种不同的方法可以爬到楼顶呢？\n",
    "注意：给定 n 是一个正整数。\n",
    "```\n",
    "输入： 2\n",
    "输出： 2\n",
    "解释： 有两种方法可以爬到楼顶。\n",
    "1.  1 阶 + 1 阶\n",
    "2.  2 阶\n",
    "```"
   ]
  },
  {
   "cell_type": "code",
   "execution_count": 20,
   "id": "5cfd96a8-3793-47da-805c-1e64989abf56",
   "metadata": {},
   "outputs": [
    {
     "name": "stdout",
     "output_type": "stream",
     "text": [
      "573147844013817084101\n"
     ]
    }
   ],
   "source": [
    "def climbStairs(n):\n",
    "    steps = [0] * (n + 1)\n",
    "    if n == 0 or n == 1 or n == 2:\n",
    "        steps[n] = n\n",
    "        return steps[n]\n",
    "    steps[0] = 0\n",
    "    steps[1] = 1\n",
    "    steps[2] = 2\n",
    "    for idx in range(3, n+1):\n",
    "        steps[idx] = steps[idx-1] + steps[idx-2]\n",
    "\n",
    "    return steps[n]\n",
    "n = 100\n",
    "print(climbStairs(n))"
   ]
  },
  {
   "cell_type": "code",
   "execution_count": 42,
   "id": "e891b8a0-77e9-4bc0-9380-7de1ac0ee277",
   "metadata": {},
   "outputs": [
    {
     "data": {
      "text/plain": [
       "[1, 2]"
      ]
     },
     "execution_count": 42,
     "metadata": {},
     "output_type": "execute_result"
    }
   ],
   "source": [
    "a = [1, 2, 3]\n",
    "a.pop()\n",
    "a"
   ]
  },
  {
   "cell_type": "code",
   "execution_count": 23,
   "id": "e0fdcf84-64f1-4b7d-918e-4e0bffdc768b",
   "metadata": {},
   "outputs": [
    {
     "data": {
      "text/plain": [
       "2"
      ]
     },
     "execution_count": 23,
     "metadata": {},
     "output_type": "execute_result"
    }
   ],
   "source": []
  }
 ],
 "metadata": {
  "kernelspec": {
   "display_name": "Python 3.8 (XPython)",
   "language": "python",
   "name": "xpython"
  },
  "language_info": {
   "file_extension": ".py",
   "mimetype": "text/x-python",
   "name": "python",
   "version": "3.8.10"
  },
  "widgets": {
   "application/vnd.jupyter.widget-state+json": {
    "state": {},
    "version_major": 2,
    "version_minor": 0
   }
  }
 },
 "nbformat": 4,
 "nbformat_minor": 5
}
