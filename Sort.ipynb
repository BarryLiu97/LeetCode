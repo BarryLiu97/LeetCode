{
 "cells": [
  {
   "cell_type": "markdown",
   "id": "c37671f1",
   "metadata": {},
   "source": [
    "## __选择排序__  算法复杂度 O($N^2$)  额外空间复杂度O(1)"
   ]
  },
  {
   "cell_type": "code",
   "execution_count": 1,
   "id": "001c4f0f",
   "metadata": {},
   "outputs": [],
   "source": [
    "class SelectionSort():\n",
    "    '''\n",
    "    选择排序\n",
    "    '''\n",
    "    def __init__(self, num):\n",
    "        self.num = num\n",
    "        \n",
    "    def selection_sort(self):\n",
    "        if len(self.num) < 2:\n",
    "            return\n",
    "        for i in range(len(self.num)):\n",
    "            min_index = i\n",
    "            for j in range(i, len(self.num)):\n",
    "                if self.num[j] < self.num[i]:\n",
    "                    min_index = j\n",
    "            self.num[i], self.num[min_index] = self.num[min_index], self.num[i]\n",
    "        return self.num"
   ]
  },
  {
   "cell_type": "code",
   "execution_count": 2,
   "id": "2e62e601",
   "metadata": {},
   "outputs": [
    {
     "name": "stdout",
     "output_type": "stream",
     "text": [
      "[1, 2, 4, 7, 9, 33, 66, 99]\n"
     ]
    }
   ],
   "source": [
    "num = [2, 4, 9, 7, 1, 66, 99, 33]\n",
    "select_sorter = SelectionSort(num)\n",
    "result = select_sorter.selection_sort()\n",
    "print(result)"
   ]
  },
  {
   "cell_type": "markdown",
   "id": "66714332",
   "metadata": {},
   "source": [
    "## __冒泡排序__  算法复杂度 O($N^2$)"
   ]
  },
  {
   "cell_type": "code",
   "execution_count": 3,
   "id": "8f759a2c",
   "metadata": {},
   "outputs": [],
   "source": [
    "class BubbleSort():\n",
    "    '''\n",
    "    冒泡排序\n",
    "    '''\n",
    "    def __init__(self, num):\n",
    "        self.num = num\n",
    "    \n",
    "    def bubble_sort(self):\n",
    "        if len(self.num) < 2:\n",
    "            return\n",
    "        for i in range(len(self.num)-1, -1, -1):\n",
    "            for j in range(i):\n",
    "                if self.num[j] > self.num[j+1]:\n",
    "                    self.num[j], self.num[j+1] = self.num[j+1], self.num[j]\n",
    "        return self.num"
   ]
  },
  {
   "cell_type": "code",
   "execution_count": 4,
   "id": "a3460f08",
   "metadata": {},
   "outputs": [
    {
     "name": "stdout",
     "output_type": "stream",
     "text": [
      "[1, 2, 4, 7, 9, 33, 66, 99]\n"
     ]
    }
   ],
   "source": [
    "num = [2, 4, 9, 7, 1, 66, 99, 33]\n",
    "bubble_sorter = BubbleSort(num)\n",
    "result = bubble_sorter.bubble_sort()\n",
    "print(result)"
   ]
  },
  {
   "cell_type": "markdown",
   "id": "18ae662d",
   "metadata": {},
   "source": [
    "## 异或运算  相同为0 不同为1  \n",
    "也可以理解为无进位相加 : 偶数个1为0  奇数个1为1 \n",
    "1.  \n",
    "0 $\\bigoplus$ N = N  \n",
    "N $\\bigoplus$ N = 0  \n",
    "2. 满足交换律和结合律     \n",
    "a$\\bigoplus$b = b$\\bigoplus$a   \n",
    "a$\\bigoplus$b$\\bigoplus$c = a$\\bigoplus$(b$\\bigoplus$c) \n",
    "3. 同一批数值，不管异或顺序，结果都一样\n",
    "a = a$\\bigoplus$b  \n",
    "b = a$\\bigoplus$b  \n",
    "a = a$\\bigoplus$b  \n",
    "实现a b数值交换\n",
    "## 前提是两个元素不在内存种同一地址  若相等 相当于同一块内存位置自己异或自己会变成0"
   ]
  },
  {
   "cell_type": "code",
   "execution_count": 5,
   "id": "fc487081",
   "metadata": {},
   "outputs": [
    {
     "name": "stdout",
     "output_type": "stream",
     "text": [
      "4 3\n"
     ]
    }
   ],
   "source": [
    "a = 3\n",
    "b = 4\n",
    "a = a ^ b\n",
    "b = a ^ b\n",
    "a = a ^ b\n",
    "print(a, b)"
   ]
  },
  {
   "cell_type": "markdown",
   "id": "9a922879",
   "metadata": {},
   "source": [
    "一组整型数组  \n",
    "1） 一种数出现奇数次，其他都出现偶数次\n",
    "2） 两种数出现奇数次，其他出现偶数次  \n",
    "要求 时间复杂度 O(N)  空间复杂度O(1)"
   ]
  },
  {
   "cell_type": "code",
   "execution_count": 6,
   "id": "87f35900",
   "metadata": {},
   "outputs": [
    {
     "name": "stdout",
     "output_type": "stream",
     "text": [
      "5\n"
     ]
    }
   ],
   "source": [
    "num = [1, 2, 2, 3, 3, 1, 4, 5, 4]\n",
    "# 第一问\n",
    "eor = 0\n",
    "for i in num:\n",
    "    eor = eor ^ i\n",
    "print(eor)"
   ]
  },
  {
   "cell_type": "code",
   "execution_count": 7,
   "id": "06132c10",
   "metadata": {},
   "outputs": [
    {
     "name": "stdout",
     "output_type": "stream",
     "text": [
      "eor is 12\n",
      "eor_ is 9\n",
      "a is 5\n",
      "b is 9\n"
     ]
    }
   ],
   "source": [
    "# 第二问\n",
    "# eor对于数组从头异或到最后，eor最后等于a异或b\n",
    "# 已知a != b   则eor一定不为0\n",
    "# 假设a和b第八位不同，则eor第八位为1   \n",
    "# 则数组元素可以分为第八位为1和第八位为0两类数，a和b必定各分属一类\n",
    "# eor_去异或所有第八位为1的数，最终结果一定是a或者b\n",
    "num = [1, 2, 2, 3, 3, 1, 4, 5, 4, 9]\n",
    "eor = 0\n",
    "eor_ = 0\n",
    "for i in num:\n",
    "    eor ^= i\n",
    "print('eor is', eor)\n",
    "right_one = eor & (~eor + 1)   # 取出一个不为零的数最右侧的1  eor可能又多个1 但是只要找到一个就行  这个1 就是a和别的区别\n",
    "for j in num:\n",
    "    if j & right_one == 0:\n",
    "        eor_ ^= j\n",
    "print('eor_ is', eor_)\n",
    "a = eor ^ eor_\n",
    "print('a is', a)\n",
    "b = a ^ eor\n",
    "print('b is', b)"
   ]
  },
  {
   "cell_type": "markdown",
   "id": "dd70fa46",
   "metadata": {},
   "source": [
    "## 插入排序 时间复杂度  O($N^2$)  最重要   时间复杂度是最差情况下的时间复杂度  插入排序最好情况是O(N)"
   ]
  },
  {
   "cell_type": "code",
   "execution_count": 8,
   "id": "1d204c95",
   "metadata": {},
   "outputs": [],
   "source": [
    "class InsertionSort():\n",
    "    '''\n",
    "    插入排序\n",
    "    '''\n",
    "    def __init__(self, num):\n",
    "        self.num = num\n",
    "        \n",
    "    def insert_sort(self):\n",
    "        if len(self.num) < 2:\n",
    "            return\n",
    "        # 0 - 0上有序 已完成  自然状态即是这样\n",
    "        # 0 - i上有序\n",
    "        for i in range(1, len(self.num)):\n",
    "            for j in range(i-1, -1, -1):\n",
    "                if self.num[j] > self.num[j+1]:\n",
    "                    self.swap(j, j+1)\n",
    "                else:\n",
    "                    continue\n",
    "        return self.num\n",
    "            \n",
    "    def swap(self, index1, index2):\n",
    "        self.num[index1], self.num[index2] = self.num[index2], self.num[index1]"
   ]
  },
  {
   "cell_type": "code",
   "execution_count": 9,
   "id": "ea2ef7e9",
   "metadata": {},
   "outputs": [
    {
     "name": "stdout",
     "output_type": "stream",
     "text": [
      "[1, 2, 4, 7, 9, 33, 66, 99]\n"
     ]
    }
   ],
   "source": [
    "num = [2, 4, 9, 7, 1, 66, 99, 33]\n",
    "insert_sorter = InsertionSort(num)\n",
    "result = insert_sorter.insert_sort()\n",
    "print(result)"
   ]
  },
  {
   "cell_type": "markdown",
   "id": "e1b9ba5a",
   "metadata": {},
   "source": [
    "## 二分法  时间复杂度$log~2(N)$\n",
    "1. 一个有序数组中，找某个数是否存在  \n",
    "2. 在一个有序数组中，找大于等于某个数最左侧的位置   [1 ,2,2,2,2,2,2,2, __3__,3,3,3,3,3]  大于等于3的最左侧的位置\n",
    "3. 局部最小值问题   "
   ]
  },
  {
   "cell_type": "code",
   "execution_count": 7,
   "id": "7cd04090",
   "metadata": {},
   "outputs": [],
   "source": [
    "class DichotomySort():\n",
    "    def __init__(self, num):\n",
    "        self.num = num\n",
    "    \n",
    "    def find_num(self, target=None):\n",
    "        left = 0\n",
    "        right = len(self.num) - 1\n",
    "        while(1):\n",
    "            middle = int((left + right) / 2)\n",
    "            if self.num[middle] == target:\n",
    "                return middle\n",
    "            elif self.num[middle] < target:\n",
    "                left = middle + 1\n",
    "            elif self.num[middle] > target:\n",
    "                right = middle -1\n",
    "            else:\n",
    "                return -1\n",
    "            \n",
    "    def find_left(self, target):\n",
    "        '''\n",
    "        在一个有序数组中，找大于等于某个数最左侧的位置\n",
    "        '''\n",
    "        left = 1\n",
    "        right = len(self.num) - 1\n",
    "        index = 0\n",
    "        while(right - left > 1):\n",
    "            print(left, right)\n",
    "            middle = int((left + right) / 2)\n",
    "            if self.num[middle] >= target:\n",
    "                right = middle\n",
    "                index = middle\n",
    "            elif self.num[middle] < target:\n",
    "                left = middle\n",
    "        return index\n",
    "        \n",
    "    def find_local_minimum(self):\n",
    "        '''\n",
    "        找出数组中的局部最小值，一个就行\n",
    "        '''\n",
    "        if self.num[0] < self.num[1]:\n",
    "            return self.num[0]\n",
    "        if self.num[-2] > self.num[-1]:\n",
    "            return self.num[-1]\n",
    "        left = 1\n",
    "        right = len(self.num) - 1 \n",
    "        while(1):\n",
    "            middle_l = int((left + right) / 2) \n",
    "            middle_r = int((left + right) / 2)\n",
    "            if self.num[middle_l-1] > self.num[middle_l] < self.num[middle_l+1]:\n",
    "                return  self.num[middle_l]\n",
    "            else:\n",
    "                right = middle_l - 1\n",
    "            if self.num[middle_r-1] > self.num[middle_r] < self.num[middle_r+1]:\n",
    "                return  self.num[middle_r]\n",
    "            else:\n",
    "                left = middle_r + 1"
   ]
  },
  {
   "cell_type": "code",
   "execution_count": 2,
   "id": "f3a8a31c",
   "metadata": {},
   "outputs": [
    {
     "name": "stdout",
     "output_type": "stream",
     "text": [
      "2\n"
     ]
    }
   ],
   "source": [
    "num = [3, 6, 9, 12, 14, 99]\n",
    "dichotomy_sorter = DichotomySort(num)\n",
    "result = dichotomy_sorter.find_num(9)\n",
    "print(result)"
   ]
  },
  {
   "cell_type": "code",
   "execution_count": 8,
   "id": "2c589574",
   "metadata": {},
   "outputs": [
    {
     "name": "stdout",
     "output_type": "stream",
     "text": [
      "1 11\n",
      "1 6\n",
      "3 6\n",
      "4 6\n",
      "6\n"
     ]
    }
   ],
   "source": [
    "num = [1, 1, 1, 2, 2, 2, 3, 5, 5, 6, 7, 8]\n",
    "dichotomy_sorter = DichotomySort(num)\n",
    "result = dichotomy_sorter.find_left(3)\n",
    "print(result)"
   ]
  },
  {
   "cell_type": "code",
   "execution_count": 4,
   "id": "756720a7",
   "metadata": {},
   "outputs": [
    {
     "name": "stdout",
     "output_type": "stream",
     "text": [
      "5\n"
     ]
    }
   ],
   "source": [
    "num = [9, 2, 9, 5, 6, 7, 8]   # 无序  相邻两个数不重复\n",
    "dichotomy_sorter = DichotomySort(num)\n",
    "result = dichotomy_sorter.find_local_minimum()\n",
    "print(result)"
   ]
  }
 ],
 "metadata": {
  "kernelspec": {
   "display_name": "Python 3 (ipykernel)",
   "language": "python",
   "name": "python3"
  },
  "language_info": {
   "codemirror_mode": {
    "name": "ipython",
    "version": 3
   },
   "file_extension": ".py",
   "mimetype": "text/x-python",
   "name": "python",
   "nbconvert_exporter": "python",
   "pygments_lexer": "ipython3",
   "version": "3.8.5"
  }
 },
 "nbformat": 4,
 "nbformat_minor": 5
}
